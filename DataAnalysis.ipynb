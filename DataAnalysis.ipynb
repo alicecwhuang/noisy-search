{
 "cells": [
  {
   "cell_type": "code",
   "execution_count": 1,
   "id": "a3dc0b02",
   "metadata": {},
   "outputs": [],
   "source": [
    "import numpy as np\n",
    "import random\n",
    "import pandas as pd\n",
    "import matplotlib.pyplot as plt\n",
    "import itertools\n",
    "import seaborn as sns\n",
    "import re\n",
    "from statsmodels.formula.api import ols"
   ]
  },
  {
   "cell_type": "code",
   "execution_count": 16,
   "id": "b55e0e65",
   "metadata": {},
   "outputs": [],
   "source": [
    "# from os import listdir\n",
    "# from os.path import isfile, join\n",
    "# files = [f for f in listdir('data') if isfile(join('data', f))]\n",
    "# df = pd.concat([pd.read_csv('data/'+f) for f in files])"
   ]
  },
  {
   "cell_type": "code",
   "execution_count": 19,
   "id": "77713f78",
   "metadata": {},
   "outputs": [],
   "source": [
    "df = pd.read_csv('test.csv')"
   ]
  },
  {
   "cell_type": "code",
   "execution_count": 20,
   "id": "8bcbe853",
   "metadata": {},
   "outputs": [],
   "source": [
    "def strtolistc(val):\n",
    "    \"\"\"Convert string to list of floats\"\"\"\n",
    "    ls = val.strip('[]').split(',')\n",
    "    new = []\n",
    "    for v in ls:\n",
    "        new.append(float(v))\n",
    "    return(np.array(new))\n",
    "def strtolistn(val):\n",
    "    \"\"\"Convert string to list of floats\"\"\"\n",
    "    ls = [x for x in re.split('\\n | ', val.strip('[]')) if x]\n",
    "    new = []\n",
    "    for v in ls:\n",
    "        new.append(float(v))\n",
    "    return(np.array(new))"
   ]
  },
  {
   "cell_type": "code",
   "execution_count": 21,
   "id": "1d0798cb",
   "metadata": {},
   "outputs": [],
   "source": [
    "per_team = 9\n",
    "h_each = 3\n",
    "def separate(val):\n",
    "    ls = []\n",
    "    for i in range(per_team):\n",
    "        ls.append(val[i*h_each:(i+1)*h_each])\n",
    "    return(ls)"
   ]
  },
  {
   "cell_type": "code",
   "execution_count": 22,
   "id": "824e9353",
   "metadata": {},
   "outputs": [],
   "source": [
    "df['d_heuristics'] = df['d_heuristics'].apply(strtolistc)\n",
    "df['x_heuristics'] = df['x_heuristics'].apply(strtolistc)\n",
    "df['d_set'] = df['d_heuristics'].map(lambda x: set(x))\n",
    "df['x_set'] = df['x_heuristics'].map(lambda x: set(x))\n",
    "df['d_cover'] = df['d_set'].map(lambda x: len(x))\n",
    "df['x_cover'] = df['x_set'].map(lambda x: len(x))\n",
    "df['d_heuristics'] = df['d_heuristics'].apply(separate)\n",
    "df['x_heuristics'] = df['x_heuristics'].apply(separate)\n",
    "df['dta'] = df['diverse'] > df['expert']"
   ]
  },
  {
   "cell_type": "code",
   "execution_count": 23,
   "id": "895eac9e",
   "metadata": {
    "scrolled": true
   },
   "outputs": [
    {
     "name": "stdout",
     "output_type": "stream",
     "text": [
      "11.110416666666667 6.414583333333334\n"
     ]
    },
    {
     "data": {
      "text/plain": [
       "<AxesSubplot:>"
      ]
     },
     "execution_count": 23,
     "metadata": {},
     "output_type": "execute_result"
    },
    {
     "data": {
      "image/png": "[encoded data removed]",
      "text/plain": [
       "<Figure size 432x288 with 1 Axes>"
      ]
     },
     "metadata": {
      "needs_background": "light"
     },
     "output_type": "display_data"
    }
   ],
   "source": [
    "print(np.mean(df['d_cover']), np.mean(df['x_cover']))\n",
    "df.boxplot(column=['d_cover', 'x_cover'])"
   ]
  },
  {
   "cell_type": "code",
   "execution_count": 24,
   "id": "e3a8784c",
   "metadata": {},
   "outputs": [],
   "source": [
    "dta = df[(df['sigma']==0)][['dta', 'trust', 'smoothness']].groupby(['trust', 'smoothness'])['dta'].sum().to_frame().unstack()\n",
    "dta = dta['dta']\n",
    "count = df[(df['sigma']==0)][['dta', 'trust', 'smoothness']].groupby(['trust', 'smoothness'])['dta'].count().to_frame().unstack()\n",
    "count = count['dta']\n",
    "dta = dta/count"
   ]
  },
  {
   "cell_type": "code",
   "execution_count": 25,
   "id": "9c970746",
   "metadata": {
    "scrolled": true
   },
   "outputs": [
    {
     "data": {
      "text/plain": [
       "([<matplotlib.axis.XTick at 0x11e420d90>,\n",
       "  <matplotlib.axis.XTick at 0x11e420d60>,\n",
       "  <matplotlib.axis.XTick at 0x11e420be0>,\n",
       "  <matplotlib.axis.XTick at 0x11e470250>],\n",
       " [Text(0, 0, 'none'),\n",
       "  Text(1, 0, 'low'),\n",
       "  Text(2, 0, 'moderate'),\n",
       "  Text(3, 0, 'high')])"
      ]
     },
     "execution_count": 25,
     "metadata": {},
     "output_type": "execute_result"
    },
    {
     "data": {
      "image/png": "[encoded data removed]",
      "text/plain": [
       "<Figure size 432x288 with 1 Axes>"
      ]
     },
     "metadata": {
      "needs_background": "light"
     },
     "output_type": "display_data"
    }
   ],
   "source": [
    "fig, ax = plt.subplots()\n",
    "for i in range(1, 9, 2):\n",
    "    data = list((dta[i]+dta[i+1])/2)\n",
    "    data.reverse()\n",
    "    ax.plot(data, label=str(i)+'-'+str(i+1), marker='o')\n",
    "#     ax.set_ylim(0, 70)\n",
    "plt.xlabel('Distrust')\n",
    "plt.ylabel('% of Functionally Diverse Group Outperforming Experts')\n",
    "plt.legend(title='Smoothness')\n",
    "plt.xticks((0, 1, 2, 3), ['none', 'low', 'moderate', 'high'])\n",
    "\n",
    "# plt.savefig('graphs/main.png', dpi=200, bbox_inches='tight')"
   ]
  },
  {
   "cell_type": "code",
   "execution_count": 26,
   "id": "89772f33",
   "metadata": {},
   "outputs": [],
   "source": [
    "df['dta'] = df['dta'].map(lambda x: int(x))"
   ]
  },
  {
   "cell_type": "code",
   "execution_count": 27,
   "id": "fdfa5601",
   "metadata": {},
   "outputs": [
    {
     "name": "stderr",
     "output_type": "stream",
     "text": [
      "/usr/local/lib/python3.9/site-packages/statsmodels/regression/linear_model.py:1860: RuntimeWarning: divide by zero encountered in double_scalars\n",
      "  return np.sqrt(eigvals[0]/eigvals[-1])\n"
     ]
    },
    {
     "data": {
      "text/html": [
       "<table class=\"simpletable\">\n",
       "<caption>OLS Regression Results</caption>\n",
       "<tr>\n",
       "  <th>Dep. Variable:</th>           <td>dta</td>       <th>  R-squared:         </th> <td>   0.000</td>\n",
       "</tr>\n",
       "<tr>\n",
       "  <th>Model:</th>                   <td>OLS</td>       <th>  Adj. R-squared:    </th> <td>   0.000</td>\n",
       "</tr>\n",
       "<tr>\n",
       "  <th>Method:</th>             <td>Least Squares</td>  <th>  F-statistic:       </th> <td>     nan</td>\n",
       "</tr>\n",
       "<tr>\n",
       "  <th>Date:</th>             <td>Mon, 24 Apr 2023</td> <th>  Prob (F-statistic):</th>  <td>   nan</td> \n",
       "</tr>\n",
       "<tr>\n",
       "  <th>Time:</th>                 <td>10:17:46</td>     <th>  Log-Likelihood:    </th> <td> -263.49</td>\n",
       "</tr>\n",
       "<tr>\n",
       "  <th>No. Observations:</th>      <td>   480</td>      <th>  AIC:               </th> <td>   529.0</td>\n",
       "</tr>\n",
       "<tr>\n",
       "  <th>Df Residuals:</th>          <td>   479</td>      <th>  BIC:               </th> <td>   533.1</td>\n",
       "</tr>\n",
       "<tr>\n",
       "  <th>Df Model:</th>              <td>     0</td>      <th>                     </th>     <td> </td>   \n",
       "</tr>\n",
       "<tr>\n",
       "  <th>Covariance Type:</th>      <td>nonrobust</td>    <th>                     </th>     <td> </td>   \n",
       "</tr>\n",
       "</table>\n",
       "<table class=\"simpletable\">\n",
       "<tr>\n",
       "      <td></td>         <th>coef</th>     <th>std err</th>      <th>t</th>      <th>P>|t|</th>  <th>[0.025</th>    <th>0.975]</th>  \n",
       "</tr>\n",
       "<tr>\n",
       "  <th>Intercept</th> <td>    0.7729</td> <td>    0.019</td> <td>   40.378</td> <td> 0.000</td> <td>    0.735</td> <td>    0.811</td>\n",
       "</tr>\n",
       "<tr>\n",
       "  <th>trust</th>     <td>         0</td> <td>        0</td> <td>      nan</td> <td>   nan</td> <td>        0</td> <td>        0</td>\n",
       "</tr>\n",
       "</table>\n",
       "<table class=\"simpletable\">\n",
       "<tr>\n",
       "  <th>Omnibus:</th>       <td>88.796</td> <th>  Durbin-Watson:     </th> <td>   1.674</td>\n",
       "</tr>\n",
       "<tr>\n",
       "  <th>Prob(Omnibus):</th> <td> 0.000</td> <th>  Jarque-Bera (JB):  </th> <td> 137.628</td>\n",
       "</tr>\n",
       "<tr>\n",
       "  <th>Skew:</th>          <td>-1.303</td> <th>  Prob(JB):          </th> <td>1.30e-30</td>\n",
       "</tr>\n",
       "<tr>\n",
       "  <th>Kurtosis:</th>      <td> 2.697</td> <th>  Cond. No.          </th> <td>     inf</td>\n",
       "</tr>\n",
       "</table><br/><br/>Notes:<br/>[1] Standard Errors assume that the covariance matrix of the errors is correctly specified.<br/>[2] The smallest eigenvalue is      0. This might indicate that there are<br/>strong multicollinearity problems or that the design matrix is singular."
      ],
      "text/plain": [
       "<class 'statsmodels.iolib.summary.Summary'>\n",
       "\"\"\"\n",
       "                            OLS Regression Results                            \n",
       "==============================================================================\n",
       "Dep. Variable:                    dta   R-squared:                       0.000\n",
       "Model:                            OLS   Adj. R-squared:                  0.000\n",
       "Method:                 Least Squares   F-statistic:                       nan\n",
       "Date:                Mon, 24 Apr 2023   Prob (F-statistic):                nan\n",
       "Time:                        10:17:46   Log-Likelihood:                -263.49\n",
       "No. Observations:                 480   AIC:                             529.0\n",
       "Df Residuals:                     479   BIC:                             533.1\n",
       "Df Model:                           0                                         \n",
       "Covariance Type:            nonrobust                                         \n",
       "==============================================================================\n",
       "                 coef    std err          t      P>|t|      [0.025      0.975]\n",
       "------------------------------------------------------------------------------\n",
       "Intercept      0.7729      0.019     40.378      0.000       0.735       0.811\n",
       "trust               0          0        nan        nan           0           0\n",
       "==============================================================================\n",
       "Omnibus:                       88.796   Durbin-Watson:                   1.674\n",
       "Prob(Omnibus):                  0.000   Jarque-Bera (JB):              137.628\n",
       "Skew:                          -1.303   Prob(JB):                     1.30e-30\n",
       "Kurtosis:                       2.697   Cond. No.                          inf\n",
       "==============================================================================\n",
       "\n",
       "Notes:\n",
       "[1] Standard Errors assume that the covariance matrix of the errors is correctly specified.\n",
       "[2] The smallest eigenvalue is      0. This might indicate that there are\n",
       "strong multicollinearity problems or that the design matrix is singular.\n",
       "\"\"\""
      ]
     },
     "execution_count": 27,
     "metadata": {},
     "output_type": "execute_result"
    }
   ],
   "source": [
    "m = ols(\"dta ~ trust\", data=df[(df['sigma']==0)]).fit()\n",
    "m.summary()"
   ]
  },
  {
   "cell_type": "code",
   "execution_count": 28,
   "id": "7c2f627a",
   "metadata": {},
   "outputs": [],
   "source": [
    "df['diff'] = df['diverse'] - df['expert']"
   ]
  },
  {
   "cell_type": "code",
   "execution_count": 29,
   "id": "867a4dde",
   "metadata": {},
   "outputs": [],
   "source": [
    "diff = df[(df['sigma']==0)][['diff', 'trust', 'smoothness']].groupby(['trust', 'smoothness'])['diff'].mean().to_frame().unstack()\n",
    "diff = diff['diff']"
   ]
  },
  {
   "cell_type": "code",
   "execution_count": 30,
   "id": "b8e88635",
   "metadata": {},
   "outputs": [
    {
     "data": {
      "text/plain": [
       "([<matplotlib.axis.XTick at 0x11e49ec70>,\n",
       "  <matplotlib.axis.XTick at 0x11e49ec40>,\n",
       "  <matplotlib.axis.XTick at 0x11e49eac0>,\n",
       "  <matplotlib.axis.XTick at 0x11dc17f40>],\n",
       " [Text(0, 0, 'none'),\n",
       "  Text(1, 0, 'low'),\n",
       "  Text(2, 0, 'moderate'),\n",
       "  Text(3, 0, 'high')])"
      ]
     },
     "execution_count": 30,
     "metadata": {},
     "output_type": "execute_result"
    },
    {
     "data": {
      "image/png": "[encoded data removed]",
      "text/plain": [
       "<Figure size 432x288 with 1 Axes>"
      ]
     },
     "metadata": {
      "needs_background": "light"
     },
     "output_type": "display_data"
    }
   ],
   "source": [
    "fig, ax = plt.subplots()\n",
    "for i in range(1, 9, 2):\n",
    "    data = list((diff[i]+diff[i+1])/2)\n",
    "    data.reverse()\n",
    "    ax.plot(data, label=str(i)+'-'+str(i+1), marker='o')\n",
    "#     ax.set_ylim(0, 70)\n",
    "plt.xlabel('Distrust')\n",
    "plt.ylabel('Difference in Average Scores (D-X)')\n",
    "plt.legend(title='Smoothness')\n",
    "plt.xticks((0, 1, 2, 3), ['none', 'low', 'moderate', 'high'])\n",
    "\n",
    "# plt.savefig('graphs/main.png', dpi=200, bbox_inches='tight')"
   ]
  },
  {
   "cell_type": "code",
   "execution_count": null,
   "id": "fad7e779",
   "metadata": {},
   "outputs": [],
   "source": []
  }
 ],
 "metadata": {
  "kernelspec": {
   "display_name": "Python 3",
   "language": "python",
   "name": "python3"
  },
  "language_info": {
   "codemirror_mode": {
    "name": "ipython",
    "version": 3
   },
   "file_extension": ".py",
   "mimetype": "text/x-python",
   "name": "python",
   "nbconvert_exporter": "python",
   "pygments_lexer": "ipython3",
   "version": "3.9.16"
  }
 },
 "nbformat": 4,
 "nbformat_minor": 5
}
