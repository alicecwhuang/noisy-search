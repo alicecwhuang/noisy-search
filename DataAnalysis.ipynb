{
 "cells": [
  {
   "cell_type": "code",
   "execution_count": 6,
   "id": "a3dc0b02",
   "metadata": {},
   "outputs": [],
   "source": [
    "import numpy as np\n",
    "import random\n",
    "import pandas as pd\n",
    "import matplotlib.pyplot as plt\n",
    "import itertools\n",
    "import seaborn as sns\n",
    "import re\n",
    "from statsmodels.formula.api import ols"
   ]
  },
  {
   "cell_type": "code",
   "execution_count": 194,
   "id": "77713f78",
   "metadata": {},
   "outputs": [],
   "source": [
    "df = pd.read_csv('data.csv')"
   ]
  },
  {
   "cell_type": "code",
   "execution_count": 195,
   "id": "8bcbe853",
   "metadata": {},
   "outputs": [],
   "source": [
    "def strtolistc(val):\n",
    "    \"\"\"Convert string to list of floats\"\"\"\n",
    "    ls = val.strip('[]').split(',')\n",
    "    new = []\n",
    "    for v in ls:\n",
    "        new.append(float(v))\n",
    "    return(np.array(new))\n",
    "def strtolistn(val):\n",
    "    \"\"\"Convert string to list of floats\"\"\"\n",
    "    ls = [x for x in re.split('\\n | ', val.strip('[]')) if x]\n",
    "    new = []\n",
    "    for v in ls:\n",
    "        new.append(float(v))\n",
    "    return(np.array(new))"
   ]
  },
  {
   "cell_type": "code",
   "execution_count": 196,
   "id": "1d0798cb",
   "metadata": {},
   "outputs": [],
   "source": [
    "def separate(val):\n",
    "    ls = []\n",
    "    for i in range(per_team):\n",
    "        ls.append(val[i*h_each:(i+1)*h_each])\n",
    "    return(ls)"
   ]
  },
  {
   "cell_type": "code",
   "execution_count": 197,
   "id": "824e9353",
   "metadata": {},
   "outputs": [],
   "source": [
    "df['d_heuristics'] = df['d_heuristics'].apply(strtolistc)\n",
    "df['x_heuristics'] = df['x_heuristics'].apply(strtolistc)\n",
    "df['d_set'] = df['d_heuristics'].map(lambda x: set(x))\n",
    "df['x_set'] = df['x_heuristics'].map(lambda x: set(x))\n",
    "df['d_cover'] = df['d_set'].map(lambda x: len(x))\n",
    "df['x_cover'] = df['x_set'].map(lambda x: len(x))\n",
    "df['d_heuristics'] = df['d_heuristics'].apply(separate)\n",
    "df['x_heuristics'] = df['x_heuristics'].apply(separate)\n",
    "df['dta'] = df['diverse'] > df['expert']"
   ]
  },
  {
   "cell_type": "code",
   "execution_count": 198,
   "id": "895eac9e",
   "metadata": {
    "scrolled": true
   },
   "outputs": [
    {
     "name": "stdout",
     "output_type": "stream",
     "text": [
      "11.221841951495149 6.45716175346899\n"
     ]
    },
    {
     "data": {
      "text/plain": [
       "<AxesSubplot:>"
      ]
     },
     "execution_count": 198,
     "metadata": {},
     "output_type": "execute_result"
    },
    {
     "data": {
      "image/png": "[encoded data removed]",
      "text/plain": [
       "<Figure size 432x288 with 1 Axes>"
      ]
     },
     "metadata": {
      "needs_background": "light"
     },
     "output_type": "display_data"
    }
   ],
   "source": [
    "print(np.mean(df['d_cover']), np.mean(df['x_cover']))\n",
    "df.boxplot(column=['d_cover', 'x_cover'])"
   ]
  },
  {
   "cell_type": "code",
   "execution_count": 214,
   "id": "e3a8784c",
   "metadata": {},
   "outputs": [],
   "source": [
    "dta = df[(df['sigma']==0)][['dta', 'trust', 'smoothness']].groupby(['trust', 'smoothness'])['dta'].sum().to_frame().unstack()\n",
    "dta = dta['dta']\n",
    "count = df[(df['sigma']==0)][['dta', 'trust', 'smoothness']].groupby(['trust', 'smoothness'])['dta'].count().to_frame().unstack()\n",
    "count = count['dta']\n",
    "dta = dta/count"
   ]
  },
  {
   "cell_type": "code",
   "execution_count": 215,
   "id": "a8272d6a",
   "metadata": {},
   "outputs": [
    {
     "data": {
      "text/html": [
       "<div>\n",
       "<style scoped>\n",
       "    .dataframe tbody tr th:only-of-type {\n",
       "        vertical-align: middle;\n",
       "    }\n",
       "\n",
       "    .dataframe tbody tr th {\n",
       "        vertical-align: top;\n",
       "    }\n",
       "\n",
       "    .dataframe thead th {\n",
       "        text-align: right;\n",
       "    }\n",
       "</style>\n",
       "<table border=\"1\" class=\"dataframe\">\n",
       "  <thead>\n",
       "    <tr style=\"text-align: right;\">\n",
       "      <th>smoothness</th>\n",
       "      <th>1</th>\n",
       "      <th>2</th>\n",
       "      <th>3</th>\n",
       "      <th>4</th>\n",
       "      <th>5</th>\n",
       "      <th>6</th>\n",
       "      <th>7</th>\n",
       "      <th>8</th>\n",
       "    </tr>\n",
       "    <tr>\n",
       "      <th>trust</th>\n",
       "      <th></th>\n",
       "      <th></th>\n",
       "      <th></th>\n",
       "      <th></th>\n",
       "      <th></th>\n",
       "      <th></th>\n",
       "      <th></th>\n",
       "      <th></th>\n",
       "    </tr>\n",
       "  </thead>\n",
       "  <tbody>\n",
       "    <tr>\n",
       "      <th>0.00</th>\n",
       "      <td>1301</td>\n",
       "      <td>1301</td>\n",
       "      <td>1301</td>\n",
       "      <td>1301</td>\n",
       "      <td>1301</td>\n",
       "      <td>1301</td>\n",
       "      <td>1301</td>\n",
       "      <td>1301</td>\n",
       "    </tr>\n",
       "    <tr>\n",
       "      <th>0.33</th>\n",
       "      <td>1301</td>\n",
       "      <td>1301</td>\n",
       "      <td>1301</td>\n",
       "      <td>1301</td>\n",
       "      <td>1301</td>\n",
       "      <td>1301</td>\n",
       "      <td>1301</td>\n",
       "      <td>1301</td>\n",
       "    </tr>\n",
       "    <tr>\n",
       "      <th>0.50</th>\n",
       "      <td>1301</td>\n",
       "      <td>1301</td>\n",
       "      <td>1301</td>\n",
       "      <td>1301</td>\n",
       "      <td>1301</td>\n",
       "      <td>1301</td>\n",
       "      <td>1301</td>\n",
       "      <td>1301</td>\n",
       "    </tr>\n",
       "    <tr>\n",
       "      <th>1.00</th>\n",
       "      <td>1301</td>\n",
       "      <td>1301</td>\n",
       "      <td>1301</td>\n",
       "      <td>1301</td>\n",
       "      <td>1301</td>\n",
       "      <td>1301</td>\n",
       "      <td>1301</td>\n",
       "      <td>1301</td>\n",
       "    </tr>\n",
       "  </tbody>\n",
       "</table>\n",
       "</div>"
      ],
      "text/plain": [
       "smoothness     1     2     3     4     5     6     7     8\n",
       "trust                                                     \n",
       "0.00        1301  1301  1301  1301  1301  1301  1301  1301\n",
       "0.33        1301  1301  1301  1301  1301  1301  1301  1301\n",
       "0.50        1301  1301  1301  1301  1301  1301  1301  1301\n",
       "1.00        1301  1301  1301  1301  1301  1301  1301  1301"
      ]
     },
     "execution_count": 215,
     "metadata": {},
     "output_type": "execute_result"
    }
   ],
   "source": [
    "count"
   ]
  },
  {
   "cell_type": "code",
   "execution_count": 216,
   "id": "9c970746",
   "metadata": {},
   "outputs": [
    {
     "data": {
      "text/plain": [
       "([<matplotlib.axis.XTick at 0x14b74f6d0>,\n",
       "  <matplotlib.axis.XTick at 0x14b74f6a0>,\n",
       "  <matplotlib.axis.XTick at 0x14b7481c0>,\n",
       "  <matplotlib.axis.XTick at 0x14b792a90>],\n",
       " [Text(0, 0, 'none'),\n",
       "  Text(1, 0, 'low'),\n",
       "  Text(2, 0, 'moderate'),\n",
       "  Text(3, 0, 'high')])"
      ]
     },
     "execution_count": 216,
     "metadata": {},
     "output_type": "execute_result"
    },
    {
     "data": {
      "image/png": "[encoded data removed]",
      "text/plain": [
       "<Figure size 432x288 with 1 Axes>"
      ]
     },
     "metadata": {
      "needs_background": "light"
     },
     "output_type": "display_data"
    }
   ],
   "source": [
    "fig, ax = plt.subplots()\n",
    "for i in range(1, 9, 2):\n",
    "    data = list((dta[i]+dta[i+1])/2)\n",
    "    data.reverse()\n",
    "    ax.plot(data, label=str(i)+'-'+str(i+1), marker='o')\n",
    "#     ax.set_ylim(0, 70)\n",
    "plt.xlabel('Distrust')\n",
    "plt.ylabel('% of Functionally Diverse Group Outperforming Experts')\n",
    "plt.legend(title='Smoothness')\n",
    "plt.xticks((0, 1, 2, 3), ['none', 'low', 'moderate', 'high'])\n",
    "\n",
    "# plt.savefig('graphs/main.png', dpi=200, bbox_inches='tight')"
   ]
  },
  {
   "cell_type": "code",
   "execution_count": 126,
   "id": "89772f33",
   "metadata": {},
   "outputs": [],
   "source": [
    "df['dta'] = df['dta'].map(lambda x: int(x))"
   ]
  },
  {
   "cell_type": "code",
   "execution_count": 128,
   "id": "fdfa5601",
   "metadata": {},
   "outputs": [
    {
     "data": {
      "text/html": [
       "<table class=\"simpletable\">\n",
       "<caption>OLS Regression Results</caption>\n",
       "<tr>\n",
       "  <th>Dep. Variable:</th>           <td>dta</td>       <th>  R-squared:         </th> <td>   0.000</td>\n",
       "</tr>\n",
       "<tr>\n",
       "  <th>Model:</th>                   <td>OLS</td>       <th>  Adj. R-squared:    </th> <td>  -0.000</td>\n",
       "</tr>\n",
       "<tr>\n",
       "  <th>Method:</th>             <td>Least Squares</td>  <th>  F-statistic:       </th> <td>  0.6255</td>\n",
       "</tr>\n",
       "<tr>\n",
       "  <th>Date:</th>             <td>Tue, 18 Apr 2023</td> <th>  Prob (F-statistic):</th>  <td> 0.429</td> \n",
       "</tr>\n",
       "<tr>\n",
       "  <th>Time:</th>                 <td>15:48:13</td>     <th>  Log-Likelihood:    </th> <td> -4653.1</td>\n",
       "</tr>\n",
       "<tr>\n",
       "  <th>No. Observations:</th>      <td> 20473</td>      <th>  AIC:               </th> <td>   9310.</td>\n",
       "</tr>\n",
       "<tr>\n",
       "  <th>Df Residuals:</th>          <td> 20471</td>      <th>  BIC:               </th> <td>   9326.</td>\n",
       "</tr>\n",
       "<tr>\n",
       "  <th>Df Model:</th>              <td>     1</td>      <th>                     </th>     <td> </td>   \n",
       "</tr>\n",
       "<tr>\n",
       "  <th>Covariance Type:</th>      <td>nonrobust</td>    <th>                     </th>     <td> </td>   \n",
       "</tr>\n",
       "</table>\n",
       "<table class=\"simpletable\">\n",
       "<tr>\n",
       "      <td></td>         <th>coef</th>     <th>std err</th>      <th>t</th>      <th>P>|t|</th>  <th>[0.025</th>    <th>0.975]</th>  \n",
       "</tr>\n",
       "<tr>\n",
       "  <th>Intercept</th> <td>    0.1049</td> <td>    0.003</td> <td>   30.631</td> <td> 0.000</td> <td>    0.098</td> <td>    0.112</td>\n",
       "</tr>\n",
       "<tr>\n",
       "  <th>trust</th>     <td>   -0.0046</td> <td>    0.006</td> <td>   -0.791</td> <td> 0.429</td> <td>   -0.016</td> <td>    0.007</td>\n",
       "</tr>\n",
       "</table>\n",
       "<table class=\"simpletable\">\n",
       "<tr>\n",
       "  <th>Omnibus:</th>       <td>10248.833</td> <th>  Durbin-Watson:     </th> <td>   1.794</td> \n",
       "</tr>\n",
       "<tr>\n",
       "  <th>Prob(Omnibus):</th>  <td> 0.000</td>   <th>  Jarque-Bera (JB):  </th> <td>43323.125</td>\n",
       "</tr>\n",
       "<tr>\n",
       "  <th>Skew:</th>           <td> 2.615</td>   <th>  Prob(JB):          </th> <td>    0.00</td> \n",
       "</tr>\n",
       "<tr>\n",
       "  <th>Kurtosis:</th>       <td> 7.840</td>   <th>  Cond. No.          </th> <td>    3.42</td> \n",
       "</tr>\n",
       "</table><br/><br/>Notes:<br/>[1] Standard Errors assume that the covariance matrix of the errors is correctly specified."
      ],
      "text/plain": [
       "<class 'statsmodels.iolib.summary.Summary'>\n",
       "\"\"\"\n",
       "                            OLS Regression Results                            \n",
       "==============================================================================\n",
       "Dep. Variable:                    dta   R-squared:                       0.000\n",
       "Model:                            OLS   Adj. R-squared:                 -0.000\n",
       "Method:                 Least Squares   F-statistic:                    0.6255\n",
       "Date:                Tue, 18 Apr 2023   Prob (F-statistic):              0.429\n",
       "Time:                        15:48:13   Log-Likelihood:                -4653.1\n",
       "No. Observations:               20473   AIC:                             9310.\n",
       "Df Residuals:                   20471   BIC:                             9326.\n",
       "Df Model:                           1                                         \n",
       "Covariance Type:            nonrobust                                         \n",
       "==============================================================================\n",
       "                 coef    std err          t      P>|t|      [0.025      0.975]\n",
       "------------------------------------------------------------------------------\n",
       "Intercept      0.1049      0.003     30.631      0.000       0.098       0.112\n",
       "trust         -0.0046      0.006     -0.791      0.429      -0.016       0.007\n",
       "==============================================================================\n",
       "Omnibus:                    10248.833   Durbin-Watson:                   1.794\n",
       "Prob(Omnibus):                  0.000   Jarque-Bera (JB):            43323.125\n",
       "Skew:                           2.615   Prob(JB):                         0.00\n",
       "Kurtosis:                       7.840   Cond. No.                         3.42\n",
       "==============================================================================\n",
       "\n",
       "Notes:\n",
       "[1] Standard Errors assume that the covariance matrix of the errors is correctly specified.\n",
       "\"\"\""
      ]
     },
     "execution_count": 128,
     "metadata": {},
     "output_type": "execute_result"
    }
   ],
   "source": [
    "m = ols(\"dta ~ trust\", data=df[(df['sigma']==12)]).fit()\n",
    "m.summary()"
   ]
  },
  {
   "cell_type": "code",
   "execution_count": null,
   "id": "7c2f627a",
   "metadata": {},
   "outputs": [],
   "source": []
  }
 ],
 "metadata": {
  "kernelspec": {
   "display_name": "Python 3",
   "language": "python",
   "name": "python3"
  },
  "language_info": {
   "codemirror_mode": {
    "name": "ipython",
    "version": 3
   },
   "file_extension": ".py",
   "mimetype": "text/x-python",
   "name": "python",
   "nbconvert_exporter": "python",
   "pygments_lexer": "ipython3",
   "version": "3.9.16"
  }
 },
 "nbformat": 4,
 "nbformat_minor": 5
}
