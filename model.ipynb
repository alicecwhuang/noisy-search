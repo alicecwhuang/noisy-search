{
 "cells": [
  {
   "cell_type": "code",
   "execution_count": 323,
   "id": "ea142717",
   "metadata": {},
   "outputs": [],
   "source": [
    "import numpy as np\n",
    "import random\n",
    "import pandas as pd\n",
    "import itertools\n",
    "import math\n",
    "import time\n",
    "import concurrent.futures"
   ]
  },
  {
   "cell_type": "code",
   "execution_count": 328,
   "id": "fc52014b",
   "metadata": {},
   "outputs": [],
   "source": [
    "class Landscape:\n",
    "    def __init__(self, smoothness, length=500):\n",
    "\n",
    "        self.s = smoothness\n",
    "        self.length = length\n",
    "        \n",
    "        total_segments = round(self.length/self.s)\n",
    "        \"\"\"Choose set of random points\"\"\"\n",
    "        \n",
    "        points = random.choices(range(1, 100), k=total_segments)\n",
    "        heights = []\n",
    "        for i in range(total_segments):\n",
    "            \"\"\"Smoothen between every two points\"\"\"\n",
    "            a = points[i]\n",
    "            b = points[(i+1)%total_segments]\n",
    "            step = np.round((b - a)/self.s, 2)\n",
    "            for j in range(self.s):\n",
    "                if a + step*j > 100:\n",
    "                    heights.append(100)\n",
    "                else:\n",
    "                    heights.append(a + step*j)\n",
    "        self.heights = heights\n",
    "        \"\"\"Update in case original length not divisible by smoothness\"\"\"\n",
    "        self.length = len(self.heights)"
   ]
  },
  {
   "cell_type": "code",
   "execution_count": 329,
   "id": "e1199132",
   "metadata": {},
   "outputs": [],
   "source": [
    "def cov_sim(set1, set2):\n",
    "    \"\"\"count how many step sizes overlap between agents\"\"\"\n",
    "    count = 0\n",
    "    for i in set1:\n",
    "        if i in set2:\n",
    "            count += 1\n",
    "    return count"
   ]
  },
  {
   "cell_type": "markdown",
   "id": "a9a010ce",
   "metadata": {},
   "source": [
    "### Model"
   ]
  },
  {
   "cell_type": "code",
   "execution_count": 365,
   "id": "0bd926d3",
   "metadata": {},
   "outputs": [],
   "source": [
    "class Agent():\n",
    "    def __init__(self, no, h, landscape, sigma=0):\n",
    "        self.no = no\n",
    "        self.h = h # Ordered list of step sizes\n",
    "        self.landscape = landscape\n",
    "        self.default_start = random.choice(range(landscape.length))\n",
    "        self.score = 0 # Highest value found\n",
    "        self.sigma = sigma # Level of noise in signals\n",
    "        \n",
    "    def data(self, loc):\n",
    "        return max(np.random.normal(self.landscape.heights[loc], \n",
    "                                    self.sigma), \n",
    "                   0.001)\n",
    "    \n",
    "    def search(self, start, own_hist, in_hist):\n",
    "        \"\"\"own_hist records agent's own search results\"\"\"\n",
    "        \"\"\"in_hist records known results by the ingroup\"\"\"\n",
    "        start = start # Starting location on landscape\n",
    "        loc = start # Current location\n",
    "        findings = own_hist\n",
    "        if (in_hist[loc] == 0): \n",
    "            \"\"\"Starting loc hasn't been searched by ingroup members\"\"\"\n",
    "            value = self.data(loc)\n",
    "            findings[loc], maxi = value, value\n",
    "        else:\n",
    "            \"\"\"Starting loc has been searched by ingroup members\"\"\"\n",
    "            maxi = in_hist[loc] # Current max value found\n",
    "        \n",
    "        count = 0 # Number of step sizes tried\n",
    "        n_total = 0\n",
    "        \n",
    "        while count < len(self.h):\n",
    "            nxt = (loc + self.h[n_total%3])%self.landscape.length # Next loc to check\n",
    "            if in_hist[nxt] == 0:\n",
    "                \"\"\"Never checked by ingroup\"\"\"\n",
    "                value = self.data(loc) # Noisy\n",
    "                findings[nxt], in_hist[nxt] = value, value\n",
    "                if maxi < value:\n",
    "                    \"\"\"Found value higher than current one\"\"\"\n",
    "                    loc, maxi, count = nxt, value, 0\n",
    "                    n_total += 1\n",
    "                else:\n",
    "                    count += 1\n",
    "                    n_total += 1\n",
    "            else:\n",
    "                \"\"\"Loc already checked by self or ingroup\"\"\"\n",
    "                value = in_hist[nxt]\n",
    "                if maxi < value:\n",
    "                    loc, maxi, count = nxt, value, 0\n",
    "                    n_total += 1\n",
    "                else:\n",
    "                    count += 1\n",
    "                    n_total += 1\n",
    "        return findings"
   ]
  },
  {
   "cell_type": "code",
   "execution_count": 331,
   "id": "3c7b3e6e",
   "metadata": {},
   "outputs": [],
   "source": [
    "class Team():\n",
    "    def __init__(self, members, landscape, trust_level=1):\n",
    "        self.members = members\n",
    "        self.landscape = landscape\n",
    "        self.trust_level = trust_level\n",
    "        self.trust = dict()\n",
    "        for a in self.members:\n",
    "            self.trust[a] = [a]\n",
    "        if self.trust_level > 0:\n",
    "            M = self.members\n",
    "            random.shuffle(M)\n",
    "            k = math.ceil(len(self.members)*self.trust_level)\n",
    "            while len(M) > 0:\n",
    "                subgroup = M[:k]\n",
    "                M = M[k:]\n",
    "                for b in subgroup:\n",
    "                    self.trust[b] = subgroup\n",
    "    \n",
    "    def aggregate(self, maps):\n",
    "        denom = np.sum([np.where(m>0, 1, 0) for m in maps.values()], axis=0)\n",
    "        num = np.sum([m for m in maps.values()], axis=0)\n",
    "        return num/(denom + np.where(denom==0, 1,0))\n",
    "                    \n",
    "    def tournament(self, start):\n",
    "        maps = dict() # Cumulative search results by members\n",
    "        for a in self.members:\n",
    "            maps[a] = np.array([0]*self.landscape.length)\n",
    "        on = True\n",
    "        maxi = 0 # Current max value found\n",
    "        loc = start # Location where current max value is found\n",
    "\n",
    "        while on:\n",
    "            for m in self.members:\n",
    "                in_hist = np.sum([maps[n] for n in self.trust[m]], axis=0)\n",
    "                results = m.search(loc, maps[m], in_hist)\n",
    "                maps[m] = results\n",
    "                \n",
    "            on = False\n",
    "            new_max, new_loc = np.amax(self.aggregate(maps)), np.argmax(self.aggregate(maps))\n",
    "            if new_max > maxi:\n",
    "                on = True # Continue if higher value found in new round\n",
    "                loc, maxi = new_loc, new_max\n",
    "\n",
    "        return self.landscape.heights[np.argmax(self.aggregate(maps))]"
   ]
  },
  {
   "cell_type": "code",
   "execution_count": 375,
   "id": "6e96f385",
   "metadata": {},
   "outputs": [],
   "source": [
    "L = Landscape(4)\n",
    "a1 = Agent(1, (1, 3, 4), L)\n",
    "a2 = Agent(2, (2, 3, 5), L)\n",
    "a3 = Agent(3, (1, 4, 6), L)\n",
    "a4 = Agent(4, (1, 4, 6), L)\n",
    "T = Team([a1, a2, a3, a4], L, 0)"
   ]
  },
  {
   "cell_type": "code",
   "execution_count": 376,
   "id": "23c98752",
   "metadata": {},
   "outputs": [
    {
     "name": "stdout",
     "output_type": "stream",
     "text": [
      "[(1, [1]), (2, [2]), (3, [3]), (4, [4])]\n"
     ]
    }
   ],
   "source": [
    "print([(key.no, [t.no for t in T.trust[key]]) for key in T.members])"
   ]
  },
  {
   "cell_type": "code",
   "execution_count": 332,
   "id": "18345f46",
   "metadata": {},
   "outputs": [],
   "source": [
    "class CorrTeam(Team):\n",
    "    def __init__(self, members, landscape, trust_level=0.5):\n",
    "        super().__init__(members, landscape, trust_level)\n",
    "        self.trust = dict()\n",
    "        for a in self.members:\n",
    "            self.trust[a] = [a]\n",
    "        if self.trust_level > 0:\n",
    "            M = self.members\n",
    "            k = math.ceil(len(self.members)*self.trust_level)\n",
    "            while len(M) > 0:\n",
    "                rmd = random.choice(M)\n",
    "                M.sort(key=lambda x: cov_sim(rmd.h, x.h), reverse=True)\n",
    "                subgroup = M[:k]\n",
    "                for b in subgroup:\n",
    "                    self.trust[b] = subgroup\n",
    "                M = M[k:]"
   ]
  },
  {
   "cell_type": "code",
   "execution_count": 345,
   "id": "31dcd8d4",
   "metadata": {},
   "outputs": [],
   "source": [
    "L = Landscape(4)\n",
    "a1 = Agent(1, (1, 2, 3), L, 8)\n",
    "a2 = Agent(2, (1, 4, 3), L, 8)\n",
    "a3 = Agent(3, (5, 4, 7), L, 8)\n",
    "T = Team([a1, a2, a3], L, 1)"
   ]
  },
  {
   "cell_type": "code",
   "execution_count": 333,
   "id": "cf7f7ea2",
   "metadata": {},
   "outputs": [],
   "source": [
    "Poolsizes = [12]\n",
    "Smoothness = range(1, 9)\n",
    "Sigma = [0, 12, 16]\n",
    "Trust = [0, 0.33, 0.5, 1]"
   ]
  },
  {
   "cell_type": "code",
   "execution_count": 358,
   "id": "fda5b151",
   "metadata": {},
   "outputs": [],
   "source": [
    "Poolsizes = [12]\n",
    "Smoothness = [4]\n",
    "Sigma = [12]\n",
    "Trust = [0.5]"
   ]
  },
  {
   "cell_type": "code",
   "execution_count": 363,
   "id": "d37089b9",
   "metadata": {},
   "outputs": [],
   "source": [
    "def run():\n",
    "    cols = ['smoothness', 'diverse', 'expert', \n",
    "            'd_heuristics', 'x_heuristics', \n",
    "            'trust', 'sigma', 'poolsize']\n",
    "    df = pd.DataFrame(columns=cols)\n",
    "    h_each = 3 # Number of step sizes each agent has\n",
    "    per_team = 6 # Number of agents per team\n",
    "    for poolsize in Poolsizes:\n",
    "        pool = list(range(1, poolsize+1))\n",
    "        all_perm = list(itertools.permutations(pool, r=h_each)) # All possible step size combo\n",
    "        for s in Smoothness: # smoothness\n",
    "            for sigma in Sigma:\n",
    "                for t in Trust: # trust level\n",
    "                    np.random.seed()\n",
    "                    L = Landscape(s)\n",
    "                    \"\"\"Select set of random starting points\"\"\"\n",
    "                    starts = random.sample(range(L.length), 100)\n",
    "                    \"\"\"Find experts\"\"\"\n",
    "                    agents = [] # all possible heuristic profiles\n",
    "                    for i in range(len(all_perm)):\n",
    "                        agents.append(Agent(i, all_perm[i], L, sigma))\n",
    "                    for a in agents:\n",
    "                        scores = [] \n",
    "                        for i in starts:\n",
    "                            results = a.search(i, np.array([0]*a.landscape.length), np.array([0]*a.landscape.length))\n",
    "                            score = L.heights[np.argmax(results)]\n",
    "                            scores.append(score)\n",
    "                        a.score = np.mean(scores)\n",
    "                    agents.sort(key=lambda x: x.score, reverse=True) # sort agents by expertise\n",
    "                    expert = Team(agents[:per_team], L, trust_level=t)\n",
    "                    \n",
    "                    \"\"\"Create diverse group\"\"\"\n",
    "                    no_repeat = random.sample(pool, per_team)\n",
    "                    repeat = [i for i in pool if i not in no_repeat]\n",
    "                    d_heu = [[i]+random.sample(repeat, h_each-1) for i in no_repeat]\n",
    "                    \n",
    "                    diverse = Team([Agent(i+len(all_perm), d_heu[i], L, sigma) for i in range(per_team)], \n",
    "                                                    L, \n",
    "                                                    trust_level=t)\n",
    "            \n",
    "                    d_record = []\n",
    "                    x_record = []\n",
    "\n",
    "                    for i in starts:\n",
    "                        np.random.seed()\n",
    "                        d_record.append(diverse.tournament(i))\n",
    "                        x_record.append(expert.tournament(i))\n",
    "                   \n",
    "                    df = df.append(pd.DataFrame([[s,\n",
    "                                                  np.mean(d_record), \n",
    "                                                  np.mean(x_record), \n",
    "                                                  list(itertools.chain.from_iterable([a.h for a in diverse.members])), \n",
    "                                                  list(itertools.chain.from_iterable([a.h for a in expert.members])), \n",
    "                                                  t,\n",
    "                                                  sigma,\n",
    "                                                  poolsize\n",
    "                                                 ]], columns=cols), ignore_index=True)\n",
    "    return(df)"
   ]
  },
  {
   "cell_type": "code",
   "execution_count": 364,
   "id": "44931e42",
   "metadata": {},
   "outputs": [
    {
     "name": "stdout",
     "output_type": "stream",
     "text": [
      "[[5, 6, 1], [9, 6, 4], [11, 3, 10], [7, 10, 4], [8, 12, 10], [2, 1, 10]]\n",
      "Finished in 19.65 second(s)\n"
     ]
    }
   ],
   "source": [
    "start = time.perf_counter()\n",
    "df = run()\n",
    "finish = time.perf_counter()\n",
    "print(f'Finished in {round(finish-start, 2)} second(s)')"
   ]
  },
  {
   "cell_type": "code",
   "execution_count": 86,
   "id": "38174777",
   "metadata": {},
   "outputs": [],
   "source": [
    "df.to_csv('test.csv', index = False)"
   ]
  }
 ],
 "metadata": {
  "kernelspec": {
   "display_name": "Python 3",
   "language": "python",
   "name": "python3"
  },
  "language_info": {
   "codemirror_mode": {
    "name": "ipython",
    "version": 3
   },
   "file_extension": ".py",
   "mimetype": "text/x-python",
   "name": "python",
   "nbconvert_exporter": "python",
   "pygments_lexer": "ipython3",
   "version": "3.9.16"
  }
 },
 "nbformat": 4,
 "nbformat_minor": 5
}
